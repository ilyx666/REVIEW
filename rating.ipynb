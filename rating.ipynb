{
 "cells": [
  {
   "cell_type": "code",
   "execution_count": 29,
   "metadata": {},
   "outputs": [],
   "source": [
    "import pandas as pd"
   ]
  },
  {
   "cell_type": "code",
   "execution_count": 30,
   "metadata": {},
   "outputs": [
    {
     "data": {
      "text/html": [
       "<div>\n",
       "<style scoped>\n",
       "    .dataframe tbody tr th:only-of-type {\n",
       "        vertical-align: middle;\n",
       "    }\n",
       "\n",
       "    .dataframe tbody tr th {\n",
       "        vertical-align: top;\n",
       "    }\n",
       "\n",
       "    .dataframe thead th {\n",
       "        text-align: right;\n",
       "    }\n",
       "</style>\n",
       "<table border=\"1\" class=\"dataframe\">\n",
       "  <thead>\n",
       "    <tr style=\"text-align: right;\">\n",
       "      <th></th>\n",
       "      <th>Unnamed: 0</th>\n",
       "      <th>rewiew_ID</th>\n",
       "      <th>article</th>\n",
       "      <th>Date</th>\n",
       "      <th>Name</th>\n",
       "      <th>Rating</th>\n",
       "      <th>Rewiew</th>\n",
       "      <th>amount Photo</th>\n",
       "    </tr>\n",
       "  </thead>\n",
       "  <tbody>\n",
       "    <tr>\n",
       "      <th>0</th>\n",
       "      <td>0</td>\n",
       "      <td>y1a2e4cBpT2rITcGXb5U</td>\n",
       "      <td>123837570</td>\n",
       "      <td>13-04-2023 17:42:42</td>\n",
       "      <td>Владимир</td>\n",
       "      <td>3</td>\n",
       "      <td>начинать подтупливать сенсор становиться работ...</td>\n",
       "      <td>0</td>\n",
       "    </tr>\n",
       "    <tr>\n",
       "      <th>1</th>\n",
       "      <td>1</td>\n",
       "      <td>uLDLeocB5g4sVs4D8-56</td>\n",
       "      <td>123837570</td>\n",
       "      <td>13-04-2023 13:26:39</td>\n",
       "      <td>Алексей</td>\n",
       "      <td>5</td>\n",
       "      <td>норма лопата камера слабый место придираться ч...</td>\n",
       "      <td>3</td>\n",
       "    </tr>\n",
       "    <tr>\n",
       "      <th>2</th>\n",
       "      <td>2</td>\n",
       "      <td>rWodeocBYE-HFOZ5m9-H</td>\n",
       "      <td>123837570</td>\n",
       "      <td>13-04-2023 10:16:13</td>\n",
       "      <td>Дилбар</td>\n",
       "      <td>5</td>\n",
       "      <td>хороший телефон пользоваться 4 месяц</td>\n",
       "      <td>2</td>\n",
       "    </tr>\n",
       "    <tr>\n",
       "      <th>3</th>\n",
       "      <td>3</td>\n",
       "      <td>H2r7eYcBYE-HFOZ529Vf</td>\n",
       "      <td>123837570</td>\n",
       "      <td>13-04-2023 09:39:22</td>\n",
       "      <td>Александр</td>\n",
       "      <td>5</td>\n",
       "      <td>NaN</td>\n",
       "      <td>0</td>\n",
       "    </tr>\n",
       "    <tr>\n",
       "      <th>4</th>\n",
       "      <td>4</td>\n",
       "      <td>PALIdocBl47NwnZ1Tx-R</td>\n",
       "      <td>123837570</td>\n",
       "      <td>12-04-2023 18:44:12</td>\n",
       "      <td>Елена</td>\n",
       "      <td>5</td>\n",
       "      <td>продавец супер доставка очень быстрый хороший ...</td>\n",
       "      <td>0</td>\n",
       "    </tr>\n",
       "    <tr>\n",
       "      <th>...</th>\n",
       "      <td>...</td>\n",
       "      <td>...</td>\n",
       "      <td>...</td>\n",
       "      <td>...</td>\n",
       "      <td>...</td>\n",
       "      <td>...</td>\n",
       "      <td>...</td>\n",
       "      <td>...</td>\n",
       "    </tr>\n",
       "    <tr>\n",
       "      <th>8952</th>\n",
       "      <td>8952</td>\n",
       "      <td>3pZCp4UBQBfka8TNcNCu</td>\n",
       "      <td>104288888</td>\n",
       "      <td>12-01-2023 18:33:47</td>\n",
       "      <td>Оксана</td>\n",
       "      <td>5</td>\n",
       "      <td>ноут приходить прекрасно упаковывать устанавли...</td>\n",
       "      <td>2</td>\n",
       "    </tr>\n",
       "    <tr>\n",
       "      <th>8953</th>\n",
       "      <td>8953</td>\n",
       "      <td>WWBQVIUBxpMXtsmOF6MD</td>\n",
       "      <td>104288888</td>\n",
       "      <td>27-12-2022 16:00:13</td>\n",
       "      <td>Ефим Олегович</td>\n",
       "      <td>3</td>\n",
       "      <td>клевый ноут винд</td>\n",
       "      <td>0</td>\n",
       "    </tr>\n",
       "    <tr>\n",
       "      <th>8954</th>\n",
       "      <td>8954</td>\n",
       "      <td>1bsAPoUBv9_TjX_mkPr5</td>\n",
       "      <td>104288888</td>\n",
       "      <td>23-12-2022 08:01:42</td>\n",
       "      <td>Екатерина</td>\n",
       "      <td>5</td>\n",
       "      <td>супер спасибо</td>\n",
       "      <td>0</td>\n",
       "    </tr>\n",
       "    <tr>\n",
       "      <th>8955</th>\n",
       "      <td>8955</td>\n",
       "      <td>Y0W194QBMBFuPskoAlHI</td>\n",
       "      <td>104288888</td>\n",
       "      <td>09-12-2022 16:25:45</td>\n",
       "      <td>Никита</td>\n",
       "      <td>5</td>\n",
       "      <td>огонь коробка пломба запечатывать ноут менее ш...</td>\n",
       "      <td>0</td>\n",
       "    </tr>\n",
       "    <tr>\n",
       "      <th>8956</th>\n",
       "      <td>8956</td>\n",
       "      <td>Rl81zYQBI2nds0aGxveK</td>\n",
       "      <td>104288888</td>\n",
       "      <td>01-12-2022 10:22:44</td>\n",
       "      <td>Наталья</td>\n",
       "      <td>5</td>\n",
       "      <td>весь просто класс</td>\n",
       "      <td>0</td>\n",
       "    </tr>\n",
       "  </tbody>\n",
       "</table>\n",
       "<p>8957 rows × 8 columns</p>\n",
       "</div>"
      ],
      "text/plain": [
       "      Unnamed: 0             rewiew_ID    article                  Date  \\\n",
       "0              0  y1a2e4cBpT2rITcGXb5U  123837570  13-04-2023 17:42:42    \n",
       "1              1  uLDLeocB5g4sVs4D8-56  123837570  13-04-2023 13:26:39    \n",
       "2              2  rWodeocBYE-HFOZ5m9-H  123837570  13-04-2023 10:16:13    \n",
       "3              3  H2r7eYcBYE-HFOZ529Vf  123837570  13-04-2023 09:39:22    \n",
       "4              4  PALIdocBl47NwnZ1Tx-R  123837570  12-04-2023 18:44:12    \n",
       "...          ...                   ...        ...                   ...   \n",
       "8952        8952  3pZCp4UBQBfka8TNcNCu  104288888  12-01-2023 18:33:47    \n",
       "8953        8953  WWBQVIUBxpMXtsmOF6MD  104288888  27-12-2022 16:00:13    \n",
       "8954        8954  1bsAPoUBv9_TjX_mkPr5  104288888  23-12-2022 08:01:42    \n",
       "8955        8955  Y0W194QBMBFuPskoAlHI  104288888  09-12-2022 16:25:45    \n",
       "8956        8956  Rl81zYQBI2nds0aGxveK  104288888  01-12-2022 10:22:44    \n",
       "\n",
       "               Name  Rating  \\\n",
       "0          Владимир       3   \n",
       "1           Алексей       5   \n",
       "2            Дилбар       5   \n",
       "3         Александр       5   \n",
       "4             Елена       5   \n",
       "...             ...     ...   \n",
       "8952         Оксана       5   \n",
       "8953  Ефим Олегович       3   \n",
       "8954      Екатерина       5   \n",
       "8955         Никита       5   \n",
       "8956        Наталья       5   \n",
       "\n",
       "                                                 Rewiew  amount Photo  \n",
       "0     начинать подтупливать сенсор становиться работ...             0  \n",
       "1     норма лопата камера слабый место придираться ч...             3  \n",
       "2                  хороший телефон пользоваться 4 месяц             2  \n",
       "3                                                   NaN             0  \n",
       "4     продавец супер доставка очень быстрый хороший ...             0  \n",
       "...                                                 ...           ...  \n",
       "8952  ноут приходить прекрасно упаковывать устанавли...             2  \n",
       "8953                                   клевый ноут винд             0  \n",
       "8954                                      супер спасибо             0  \n",
       "8955  огонь коробка пломба запечатывать ноут менее ш...             0  \n",
       "8956                                  весь просто класс             0  \n",
       "\n",
       "[8957 rows x 8 columns]"
      ]
     },
     "execution_count": 30,
     "metadata": {},
     "output_type": "execute_result"
    }
   ],
   "source": [
    "df = pd.read_excel('review_preprocessing.xlsx', index_col=0)\n",
    "df"
   ]
  },
  {
   "cell_type": "code",
   "execution_count": 31,
   "metadata": {},
   "outputs": [],
   "source": [
    "lens = [] \n",
    "for i in df.Rewiew:\n",
    "    lens.append(len(str(i)))"
   ]
  },
  {
   "cell_type": "code",
   "execution_count": 32,
   "metadata": {},
   "outputs": [
    {
     "data": {
      "text/html": [
       "<div>\n",
       "<style scoped>\n",
       "    .dataframe tbody tr th:only-of-type {\n",
       "        vertical-align: middle;\n",
       "    }\n",
       "\n",
       "    .dataframe tbody tr th {\n",
       "        vertical-align: top;\n",
       "    }\n",
       "\n",
       "    .dataframe thead th {\n",
       "        text-align: right;\n",
       "    }\n",
       "</style>\n",
       "<table border=\"1\" class=\"dataframe\">\n",
       "  <thead>\n",
       "    <tr style=\"text-align: right;\">\n",
       "      <th></th>\n",
       "      <th>Unnamed: 0</th>\n",
       "      <th>rewiew_ID</th>\n",
       "      <th>article</th>\n",
       "      <th>Date</th>\n",
       "      <th>Name</th>\n",
       "      <th>Rating</th>\n",
       "      <th>Rewiew</th>\n",
       "      <th>amount Photo</th>\n",
       "      <th>LenReview</th>\n",
       "    </tr>\n",
       "  </thead>\n",
       "  <tbody>\n",
       "    <tr>\n",
       "      <th>0</th>\n",
       "      <td>0</td>\n",
       "      <td>y1a2e4cBpT2rITcGXb5U</td>\n",
       "      <td>123837570</td>\n",
       "      <td>13-04-2023 17:42:42</td>\n",
       "      <td>Владимир</td>\n",
       "      <td>3</td>\n",
       "      <td>начинать подтупливать сенсор становиться работ...</td>\n",
       "      <td>0</td>\n",
       "      <td>57</td>\n",
       "    </tr>\n",
       "    <tr>\n",
       "      <th>1</th>\n",
       "      <td>1</td>\n",
       "      <td>uLDLeocB5g4sVs4D8-56</td>\n",
       "      <td>123837570</td>\n",
       "      <td>13-04-2023 13:26:39</td>\n",
       "      <td>Алексей</td>\n",
       "      <td>5</td>\n",
       "      <td>норма лопата камера слабый место придираться ч...</td>\n",
       "      <td>3</td>\n",
       "      <td>86</td>\n",
       "    </tr>\n",
       "    <tr>\n",
       "      <th>2</th>\n",
       "      <td>2</td>\n",
       "      <td>rWodeocBYE-HFOZ5m9-H</td>\n",
       "      <td>123837570</td>\n",
       "      <td>13-04-2023 10:16:13</td>\n",
       "      <td>Дилбар</td>\n",
       "      <td>5</td>\n",
       "      <td>хороший телефон пользоваться 4 месяц</td>\n",
       "      <td>2</td>\n",
       "      <td>36</td>\n",
       "    </tr>\n",
       "    <tr>\n",
       "      <th>3</th>\n",
       "      <td>3</td>\n",
       "      <td>H2r7eYcBYE-HFOZ529Vf</td>\n",
       "      <td>123837570</td>\n",
       "      <td>13-04-2023 09:39:22</td>\n",
       "      <td>Александр</td>\n",
       "      <td>5</td>\n",
       "      <td>NaN</td>\n",
       "      <td>0</td>\n",
       "      <td>3</td>\n",
       "    </tr>\n",
       "    <tr>\n",
       "      <th>4</th>\n",
       "      <td>4</td>\n",
       "      <td>PALIdocBl47NwnZ1Tx-R</td>\n",
       "      <td>123837570</td>\n",
       "      <td>12-04-2023 18:44:12</td>\n",
       "      <td>Елена</td>\n",
       "      <td>5</td>\n",
       "      <td>продавец супер доставка очень быстрый хороший ...</td>\n",
       "      <td>0</td>\n",
       "      <td>93</td>\n",
       "    </tr>\n",
       "    <tr>\n",
       "      <th>...</th>\n",
       "      <td>...</td>\n",
       "      <td>...</td>\n",
       "      <td>...</td>\n",
       "      <td>...</td>\n",
       "      <td>...</td>\n",
       "      <td>...</td>\n",
       "      <td>...</td>\n",
       "      <td>...</td>\n",
       "      <td>...</td>\n",
       "    </tr>\n",
       "    <tr>\n",
       "      <th>8952</th>\n",
       "      <td>8952</td>\n",
       "      <td>3pZCp4UBQBfka8TNcNCu</td>\n",
       "      <td>104288888</td>\n",
       "      <td>12-01-2023 18:33:47</td>\n",
       "      <td>Оксана</td>\n",
       "      <td>5</td>\n",
       "      <td>ноут приходить прекрасно упаковывать устанавли...</td>\n",
       "      <td>2</td>\n",
       "      <td>81</td>\n",
       "    </tr>\n",
       "    <tr>\n",
       "      <th>8953</th>\n",
       "      <td>8953</td>\n",
       "      <td>WWBQVIUBxpMXtsmOF6MD</td>\n",
       "      <td>104288888</td>\n",
       "      <td>27-12-2022 16:00:13</td>\n",
       "      <td>Ефим Олегович</td>\n",
       "      <td>3</td>\n",
       "      <td>клевый ноут винд</td>\n",
       "      <td>0</td>\n",
       "      <td>16</td>\n",
       "    </tr>\n",
       "    <tr>\n",
       "      <th>8954</th>\n",
       "      <td>8954</td>\n",
       "      <td>1bsAPoUBv9_TjX_mkPr5</td>\n",
       "      <td>104288888</td>\n",
       "      <td>23-12-2022 08:01:42</td>\n",
       "      <td>Екатерина</td>\n",
       "      <td>5</td>\n",
       "      <td>супер спасибо</td>\n",
       "      <td>0</td>\n",
       "      <td>13</td>\n",
       "    </tr>\n",
       "    <tr>\n",
       "      <th>8955</th>\n",
       "      <td>8955</td>\n",
       "      <td>Y0W194QBMBFuPskoAlHI</td>\n",
       "      <td>104288888</td>\n",
       "      <td>09-12-2022 16:25:45</td>\n",
       "      <td>Никита</td>\n",
       "      <td>5</td>\n",
       "      <td>огонь коробка пломба запечатывать ноут менее ш...</td>\n",
       "      <td>0</td>\n",
       "      <td>52</td>\n",
       "    </tr>\n",
       "    <tr>\n",
       "      <th>8956</th>\n",
       "      <td>8956</td>\n",
       "      <td>Rl81zYQBI2nds0aGxveK</td>\n",
       "      <td>104288888</td>\n",
       "      <td>01-12-2022 10:22:44</td>\n",
       "      <td>Наталья</td>\n",
       "      <td>5</td>\n",
       "      <td>весь просто класс</td>\n",
       "      <td>0</td>\n",
       "      <td>17</td>\n",
       "    </tr>\n",
       "  </tbody>\n",
       "</table>\n",
       "<p>8957 rows × 9 columns</p>\n",
       "</div>"
      ],
      "text/plain": [
       "      Unnamed: 0             rewiew_ID    article                  Date  \\\n",
       "0              0  y1a2e4cBpT2rITcGXb5U  123837570  13-04-2023 17:42:42    \n",
       "1              1  uLDLeocB5g4sVs4D8-56  123837570  13-04-2023 13:26:39    \n",
       "2              2  rWodeocBYE-HFOZ5m9-H  123837570  13-04-2023 10:16:13    \n",
       "3              3  H2r7eYcBYE-HFOZ529Vf  123837570  13-04-2023 09:39:22    \n",
       "4              4  PALIdocBl47NwnZ1Tx-R  123837570  12-04-2023 18:44:12    \n",
       "...          ...                   ...        ...                   ...   \n",
       "8952        8952  3pZCp4UBQBfka8TNcNCu  104288888  12-01-2023 18:33:47    \n",
       "8953        8953  WWBQVIUBxpMXtsmOF6MD  104288888  27-12-2022 16:00:13    \n",
       "8954        8954  1bsAPoUBv9_TjX_mkPr5  104288888  23-12-2022 08:01:42    \n",
       "8955        8955  Y0W194QBMBFuPskoAlHI  104288888  09-12-2022 16:25:45    \n",
       "8956        8956  Rl81zYQBI2nds0aGxveK  104288888  01-12-2022 10:22:44    \n",
       "\n",
       "               Name  Rating  \\\n",
       "0          Владимир       3   \n",
       "1           Алексей       5   \n",
       "2            Дилбар       5   \n",
       "3         Александр       5   \n",
       "4             Елена       5   \n",
       "...             ...     ...   \n",
       "8952         Оксана       5   \n",
       "8953  Ефим Олегович       3   \n",
       "8954      Екатерина       5   \n",
       "8955         Никита       5   \n",
       "8956        Наталья       5   \n",
       "\n",
       "                                                 Rewiew  amount Photo  \\\n",
       "0     начинать подтупливать сенсор становиться работ...             0   \n",
       "1     норма лопата камера слабый место придираться ч...             3   \n",
       "2                  хороший телефон пользоваться 4 месяц             2   \n",
       "3                                                   NaN             0   \n",
       "4     продавец супер доставка очень быстрый хороший ...             0   \n",
       "...                                                 ...           ...   \n",
       "8952  ноут приходить прекрасно упаковывать устанавли...             2   \n",
       "8953                                   клевый ноут винд             0   \n",
       "8954                                      супер спасибо             0   \n",
       "8955  огонь коробка пломба запечатывать ноут менее ш...             0   \n",
       "8956                                  весь просто класс             0   \n",
       "\n",
       "      LenReview  \n",
       "0            57  \n",
       "1            86  \n",
       "2            36  \n",
       "3             3  \n",
       "4            93  \n",
       "...         ...  \n",
       "8952         81  \n",
       "8953         16  \n",
       "8954         13  \n",
       "8955         52  \n",
       "8956         17  \n",
       "\n",
       "[8957 rows x 9 columns]"
      ]
     },
     "execution_count": 32,
     "metadata": {},
     "output_type": "execute_result"
    }
   ],
   "source": [
    "df['LenReview'] = lens\n",
    "df"
   ]
  },
  {
   "cell_type": "code",
   "execution_count": 33,
   "metadata": {},
   "outputs": [
    {
     "name": "stderr",
     "output_type": "stream",
     "text": [
      "C:\\Users\\ilyx\\AppData\\Local\\Temp\\ipykernel_16108\\642591680.py:4: SettingWithCopyWarning: \n",
      "A value is trying to be set on a copy of a slice from a DataFrame\n",
      "\n",
      "See the caveats in the documentation: https://pandas.pydata.org/pandas-docs/stable/user_guide/indexing.html#returning-a-view-versus-a-copy\n",
      "  df.Rewiew.loc[i] = ''\n"
     ]
    }
   ],
   "source": [
    "import numpy as np\n",
    "for i in range(len(df)):\n",
    "    if type(df.Rewiew.loc[i]) == float:\n",
    "        df.Rewiew.loc[i] = ''"
   ]
  },
  {
   "cell_type": "code",
   "execution_count": 34,
   "metadata": {},
   "outputs": [],
   "source": [
    "from sklearn.feature_extraction.text import CountVectorizer\n",
    "vectorizer = CountVectorizer()\n",
    "X = vectorizer.fit_transform(df.Rewiew)\n",
    "y = df.Rating"
   ]
  },
  {
   "cell_type": "code",
   "execution_count": 35,
   "metadata": {},
   "outputs": [],
   "source": [
    "from sklearn.model_selection import train_test_split\n",
    "X_train, X_test, y_train, y_test = train_test_split(X , y, test_size=0.2, random_state=42)"
   ]
  },
  {
   "cell_type": "code",
   "execution_count": 36,
   "metadata": {},
   "outputs": [
    {
     "ename": "KeyboardInterrupt",
     "evalue": "",
     "output_type": "error",
     "traceback": [
      "\u001b[1;31m---------------------------------------------------------------------------\u001b[0m",
      "\u001b[1;31mKeyboardInterrupt\u001b[0m                         Traceback (most recent call last)",
      "\u001b[1;32mc:\\Users\\ilyx\\Desktop\\REVIEW-main\\rating.ipynb Ячейка 8\u001b[0m in \u001b[0;36m6\n\u001b[0;32m      <a href='vscode-notebook-cell:/c%3A/Users/ilyx/Desktop/REVIEW-main/rating.ipynb#X10sZmlsZQ%3D%3D?line=2'>3</a>\u001b[0m gb_clf \u001b[39m=\u001b[39m GradientBoostingClassifier(n_estimators\u001b[39m=\u001b[39m\u001b[39m8957\u001b[39m, learning_rate\u001b[39m=\u001b[39m\u001b[39m0.1\u001b[39m, max_depth\u001b[39m=\u001b[39m\u001b[39m3\u001b[39m, random_state\u001b[39m=\u001b[39m\u001b[39m42\u001b[39m)\n\u001b[0;32m      <a href='vscode-notebook-cell:/c%3A/Users/ilyx/Desktop/REVIEW-main/rating.ipynb#X10sZmlsZQ%3D%3D?line=4'>5</a>\u001b[0m \u001b[39m# Обучение модели на обучающей выборке\u001b[39;00m\n\u001b[1;32m----> <a href='vscode-notebook-cell:/c%3A/Users/ilyx/Desktop/REVIEW-main/rating.ipynb#X10sZmlsZQ%3D%3D?line=5'>6</a>\u001b[0m gb_clf\u001b[39m.\u001b[39;49mfit(X_train, y_train)\n\u001b[0;32m      <a href='vscode-notebook-cell:/c%3A/Users/ilyx/Desktop/REVIEW-main/rating.ipynb#X10sZmlsZQ%3D%3D?line=7'>8</a>\u001b[0m \u001b[39m# Получение предсказаний на тестовой выборке\u001b[39;00m\n\u001b[0;32m      <a href='vscode-notebook-cell:/c%3A/Users/ilyx/Desktop/REVIEW-main/rating.ipynb#X10sZmlsZQ%3D%3D?line=8'>9</a>\u001b[0m y_pred \u001b[39m=\u001b[39m gb_clf\u001b[39m.\u001b[39mpredict(X_test)\n",
      "File \u001b[1;32mc:\\Users\\ilyx\\AppData\\Local\\Programs\\Python\\Python310\\lib\\site-packages\\sklearn\\ensemble\\_gb.py:668\u001b[0m, in \u001b[0;36mBaseGradientBoosting.fit\u001b[1;34m(self, X, y, sample_weight, monitor)\u001b[0m\n\u001b[0;32m    665\u001b[0m     \u001b[39mself\u001b[39m\u001b[39m.\u001b[39m_resize_state()\n\u001b[0;32m    667\u001b[0m \u001b[39m# fit the boosting stages\u001b[39;00m\n\u001b[1;32m--> 668\u001b[0m n_stages \u001b[39m=\u001b[39m \u001b[39mself\u001b[39;49m\u001b[39m.\u001b[39;49m_fit_stages(\n\u001b[0;32m    669\u001b[0m     X,\n\u001b[0;32m    670\u001b[0m     y,\n\u001b[0;32m    671\u001b[0m     raw_predictions,\n\u001b[0;32m    672\u001b[0m     sample_weight,\n\u001b[0;32m    673\u001b[0m     \u001b[39mself\u001b[39;49m\u001b[39m.\u001b[39;49m_rng,\n\u001b[0;32m    674\u001b[0m     X_val,\n\u001b[0;32m    675\u001b[0m     y_val,\n\u001b[0;32m    676\u001b[0m     sample_weight_val,\n\u001b[0;32m    677\u001b[0m     begin_at_stage,\n\u001b[0;32m    678\u001b[0m     monitor,\n\u001b[0;32m    679\u001b[0m )\n\u001b[0;32m    681\u001b[0m \u001b[39m# change shape of arrays after fit (early-stopping or additional ests)\u001b[39;00m\n\u001b[0;32m    682\u001b[0m \u001b[39mif\u001b[39;00m n_stages \u001b[39m!=\u001b[39m \u001b[39mself\u001b[39m\u001b[39m.\u001b[39mestimators_\u001b[39m.\u001b[39mshape[\u001b[39m0\u001b[39m]:\n",
      "File \u001b[1;32mc:\\Users\\ilyx\\AppData\\Local\\Programs\\Python\\Python310\\lib\\site-packages\\sklearn\\ensemble\\_gb.py:745\u001b[0m, in \u001b[0;36mBaseGradientBoosting._fit_stages\u001b[1;34m(self, X, y, raw_predictions, sample_weight, random_state, X_val, y_val, sample_weight_val, begin_at_stage, monitor)\u001b[0m\n\u001b[0;32m    738\u001b[0m     old_oob_score \u001b[39m=\u001b[39m loss_(\n\u001b[0;32m    739\u001b[0m         y[\u001b[39m~\u001b[39msample_mask],\n\u001b[0;32m    740\u001b[0m         raw_predictions[\u001b[39m~\u001b[39msample_mask],\n\u001b[0;32m    741\u001b[0m         sample_weight[\u001b[39m~\u001b[39msample_mask],\n\u001b[0;32m    742\u001b[0m     )\n\u001b[0;32m    744\u001b[0m \u001b[39m# fit next stage of trees\u001b[39;00m\n\u001b[1;32m--> 745\u001b[0m raw_predictions \u001b[39m=\u001b[39m \u001b[39mself\u001b[39;49m\u001b[39m.\u001b[39;49m_fit_stage(\n\u001b[0;32m    746\u001b[0m     i,\n\u001b[0;32m    747\u001b[0m     X,\n\u001b[0;32m    748\u001b[0m     y,\n\u001b[0;32m    749\u001b[0m     raw_predictions,\n\u001b[0;32m    750\u001b[0m     sample_weight,\n\u001b[0;32m    751\u001b[0m     sample_mask,\n\u001b[0;32m    752\u001b[0m     random_state,\n\u001b[0;32m    753\u001b[0m     X_csc,\n\u001b[0;32m    754\u001b[0m     X_csr,\n\u001b[0;32m    755\u001b[0m )\n\u001b[0;32m    757\u001b[0m \u001b[39m# track deviance (= loss)\u001b[39;00m\n\u001b[0;32m    758\u001b[0m \u001b[39mif\u001b[39;00m do_oob:\n",
      "File \u001b[1;32mc:\\Users\\ilyx\\AppData\\Local\\Programs\\Python\\Python310\\lib\\site-packages\\sklearn\\ensemble\\_gb.py:247\u001b[0m, in \u001b[0;36mBaseGradientBoosting._fit_stage\u001b[1;34m(self, i, X, y, raw_predictions, sample_weight, sample_mask, random_state, X_csc, X_csr)\u001b[0m\n\u001b[0;32m    244\u001b[0m     sample_weight \u001b[39m=\u001b[39m sample_weight \u001b[39m*\u001b[39m sample_mask\u001b[39m.\u001b[39mastype(np\u001b[39m.\u001b[39mfloat64)\n\u001b[0;32m    246\u001b[0m X \u001b[39m=\u001b[39m X_csr \u001b[39mif\u001b[39;00m X_csr \u001b[39mis\u001b[39;00m \u001b[39mnot\u001b[39;00m \u001b[39mNone\u001b[39;00m \u001b[39melse\u001b[39;00m X\n\u001b[1;32m--> 247\u001b[0m tree\u001b[39m.\u001b[39;49mfit(X, residual, sample_weight\u001b[39m=\u001b[39;49msample_weight, check_input\u001b[39m=\u001b[39;49m\u001b[39mFalse\u001b[39;49;00m)\n\u001b[0;32m    249\u001b[0m \u001b[39m# update tree leaves\u001b[39;00m\n\u001b[0;32m    250\u001b[0m loss\u001b[39m.\u001b[39mupdate_terminal_regions(\n\u001b[0;32m    251\u001b[0m     tree\u001b[39m.\u001b[39mtree_,\n\u001b[0;32m    252\u001b[0m     X,\n\u001b[1;32m   (...)\u001b[0m\n\u001b[0;32m    259\u001b[0m     k\u001b[39m=\u001b[39mk,\n\u001b[0;32m    260\u001b[0m )\n",
      "File \u001b[1;32mc:\\Users\\ilyx\\AppData\\Local\\Programs\\Python\\Python310\\lib\\site-packages\\sklearn\\tree\\_classes.py:1342\u001b[0m, in \u001b[0;36mDecisionTreeRegressor.fit\u001b[1;34m(self, X, y, sample_weight, check_input)\u001b[0m\n\u001b[0;32m   1313\u001b[0m \u001b[39mdef\u001b[39;00m \u001b[39mfit\u001b[39m(\u001b[39mself\u001b[39m, X, y, sample_weight\u001b[39m=\u001b[39m\u001b[39mNone\u001b[39;00m, check_input\u001b[39m=\u001b[39m\u001b[39mTrue\u001b[39;00m):\n\u001b[0;32m   1314\u001b[0m     \u001b[39m\"\"\"Build a decision tree regressor from the training set (X, y).\u001b[39;00m\n\u001b[0;32m   1315\u001b[0m \n\u001b[0;32m   1316\u001b[0m \u001b[39m    Parameters\u001b[39;00m\n\u001b[1;32m   (...)\u001b[0m\n\u001b[0;32m   1339\u001b[0m \u001b[39m        Fitted estimator.\u001b[39;00m\n\u001b[0;32m   1340\u001b[0m \u001b[39m    \"\"\"\u001b[39;00m\n\u001b[1;32m-> 1342\u001b[0m     \u001b[39msuper\u001b[39;49m()\u001b[39m.\u001b[39;49mfit(\n\u001b[0;32m   1343\u001b[0m         X,\n\u001b[0;32m   1344\u001b[0m         y,\n\u001b[0;32m   1345\u001b[0m         sample_weight\u001b[39m=\u001b[39;49msample_weight,\n\u001b[0;32m   1346\u001b[0m         check_input\u001b[39m=\u001b[39;49mcheck_input,\n\u001b[0;32m   1347\u001b[0m     )\n\u001b[0;32m   1348\u001b[0m     \u001b[39mreturn\u001b[39;00m \u001b[39mself\u001b[39m\n",
      "File \u001b[1;32mc:\\Users\\ilyx\\AppData\\Local\\Programs\\Python\\Python310\\lib\\site-packages\\sklearn\\tree\\_classes.py:458\u001b[0m, in \u001b[0;36mBaseDecisionTree.fit\u001b[1;34m(self, X, y, sample_weight, check_input)\u001b[0m\n\u001b[0;32m    447\u001b[0m \u001b[39melse\u001b[39;00m:\n\u001b[0;32m    448\u001b[0m     builder \u001b[39m=\u001b[39m BestFirstTreeBuilder(\n\u001b[0;32m    449\u001b[0m         splitter,\n\u001b[0;32m    450\u001b[0m         min_samples_split,\n\u001b[1;32m   (...)\u001b[0m\n\u001b[0;32m    455\u001b[0m         \u001b[39mself\u001b[39m\u001b[39m.\u001b[39mmin_impurity_decrease,\n\u001b[0;32m    456\u001b[0m     )\n\u001b[1;32m--> 458\u001b[0m builder\u001b[39m.\u001b[39;49mbuild(\u001b[39mself\u001b[39;49m\u001b[39m.\u001b[39;49mtree_, X, y, sample_weight)\n\u001b[0;32m    460\u001b[0m \u001b[39mif\u001b[39;00m \u001b[39mself\u001b[39m\u001b[39m.\u001b[39mn_outputs_ \u001b[39m==\u001b[39m \u001b[39m1\u001b[39m \u001b[39mand\u001b[39;00m is_classifier(\u001b[39mself\u001b[39m):\n\u001b[0;32m    461\u001b[0m     \u001b[39mself\u001b[39m\u001b[39m.\u001b[39mn_classes_ \u001b[39m=\u001b[39m \u001b[39mself\u001b[39m\u001b[39m.\u001b[39mn_classes_[\u001b[39m0\u001b[39m]\n",
      "\u001b[1;31mKeyboardInterrupt\u001b[0m: "
     ]
    }
   ],
   "source": [
    "from sklearn.ensemble import GradientBoostingClassifier\n",
    "from sklearn.metrics import accuracy_score\n",
    "gb_clf = GradientBoostingClassifier(n_estimators=8957, learning_rate=0.1, max_depth=3, random_state=42)\n",
    "\n",
    "# Обучение модели на обучающей выборке\n",
    "gb_clf.fit(X_train, y_train)\n",
    "\n",
    "# Получение предсказаний на тестовой выборке\n",
    "y_pred = gb_clf.predict(X_test)\n",
    "\n",
    "# Вычисление точности модели\n",
    "accuracy = accuracy_score(y_test, y_pred)\n",
    "print(\"Accuracy:\", accuracy)"
   ]
  },
  {
   "cell_type": "code",
   "execution_count": 37,
   "metadata": {},
   "outputs": [],
   "source": [
    "from sklearn.linear_model import LogisticRegression\n",
    "clf = LogisticRegression(max_iter = 1000, random_state=0, C=10).fit(X_train, y_train)"
   ]
  },
  {
   "cell_type": "code",
   "execution_count": 38,
   "metadata": {},
   "outputs": [],
   "source": [
    "x_predict = clf.predict(X_test)"
   ]
  },
  {
   "cell_type": "code",
   "execution_count": 39,
   "metadata": {},
   "outputs": [
    {
     "name": "stdout",
     "output_type": "stream",
     "text": [
      "0.8934151785714286\n"
     ]
    }
   ],
   "source": [
    "import numpy as np\n",
    "\n",
    "from sklearn.metrics import accuracy_score\n",
    "print(accuracy_score(y_test, x_predict))"
   ]
  },
  {
   "cell_type": "code",
   "execution_count": 55,
   "metadata": {},
   "outputs": [],
   "source": [
    "new_X = pd.concat([pd.DataFrame(X.toarray()), df[['amount Photo']]], axis=1)"
   ]
  },
  {
   "cell_type": "code",
   "execution_count": 56,
   "metadata": {},
   "outputs": [],
   "source": [
    "new_X.columns = new_X.columns.astype(str)"
   ]
  },
  {
   "cell_type": "code",
   "execution_count": 57,
   "metadata": {},
   "outputs": [],
   "source": [
    "from sklearn.model_selection import train_test_split\n",
    "X_train, X_test, y_train, y_test = train_test_split(new_X , y, test_size=0.2, random_state=42)"
   ]
  },
  {
   "cell_type": "code",
   "execution_count": 58,
   "metadata": {},
   "outputs": [],
   "source": [
    "from sklearn.linear_model import LogisticRegression\n",
    "clf = LogisticRegression(max_iter = 1000, random_state=0, C=0.1).fit(X_train, y_train)"
   ]
  },
  {
   "cell_type": "code",
   "execution_count": 59,
   "metadata": {},
   "outputs": [],
   "source": [
    "x_predict = clf.predict(X_test)"
   ]
  },
  {
   "cell_type": "code",
   "execution_count": 60,
   "metadata": {},
   "outputs": [
    {
     "name": "stdout",
     "output_type": "stream",
     "text": [
      "0.9056919642857143\n"
     ]
    }
   ],
   "source": [
    "import numpy as np\n",
    "\n",
    "from sklearn.metrics import accuracy_score\n",
    "print(accuracy_score(y_test, x_predict))"
   ]
  },
  {
   "cell_type": "code",
   "execution_count": 61,
   "metadata": {},
   "outputs": [],
   "source": [
    "df.to_excel('review_preprocessing_withLenRev.xlsx')"
   ]
  },
  {
   "cell_type": "code",
   "execution_count": 63,
   "metadata": {},
   "outputs": [
    {
     "ename": "AttributeError",
     "evalue": "module 'pandas' has no attribute 'send_data'",
     "output_type": "error",
     "traceback": [
      "\u001b[1;31m---------------------------------------------------------------------------\u001b[0m",
      "\u001b[1;31mAttributeError\u001b[0m                            Traceback (most recent call last)",
      "\u001b[1;32mc:\\Users\\ilyx\\Desktop\\REVIEW-main\\rating.ipynb Ячейка 19\u001b[0m in \u001b[0;36m1\n\u001b[1;32m----> <a href='vscode-notebook-cell:/c%3A/Users/ilyx/Desktop/REVIEW-main/rating.ipynb#X25sZmlsZQ%3D%3D?line=0'>1</a>\u001b[0m pd\u001b[39m.\u001b[39;49msend_data(df)\n",
      "File \u001b[1;32mc:\\Users\\ilyx\\AppData\\Local\\Programs\\Python\\Python310\\lib\\site-packages\\pandas\\__init__.py:264\u001b[0m, in \u001b[0;36m__getattr__\u001b[1;34m(name)\u001b[0m\n\u001b[0;32m    260\u001b[0m     \u001b[39mfrom\u001b[39;00m \u001b[39mpandas\u001b[39;00m\u001b[39m.\u001b[39;00m\u001b[39mcore\u001b[39;00m\u001b[39m.\u001b[39;00m\u001b[39marrays\u001b[39;00m\u001b[39m.\u001b[39;00m\u001b[39msparse\u001b[39;00m \u001b[39mimport\u001b[39;00m SparseArray \u001b[39mas\u001b[39;00m _SparseArray\n\u001b[0;32m    262\u001b[0m     \u001b[39mreturn\u001b[39;00m _SparseArray\n\u001b[1;32m--> 264\u001b[0m \u001b[39mraise\u001b[39;00m \u001b[39mAttributeError\u001b[39;00m(\u001b[39mf\u001b[39m\u001b[39m\"\u001b[39m\u001b[39mmodule \u001b[39m\u001b[39m'\u001b[39m\u001b[39mpandas\u001b[39m\u001b[39m'\u001b[39m\u001b[39m has no attribute \u001b[39m\u001b[39m'\u001b[39m\u001b[39m{\u001b[39;00mname\u001b[39m}\u001b[39;00m\u001b[39m'\u001b[39m\u001b[39m\"\u001b[39m)\n",
      "\u001b[1;31mAttributeError\u001b[0m: module 'pandas' has no attribute 'send_data'"
     ]
    }
   ],
   "source": []
  },
  {
   "cell_type": "code",
   "execution_count": null,
   "metadata": {},
   "outputs": [],
   "source": [
    "0.9012276785714286#+ LenReview\n",
    "0.9040178571428571#+'amountPhoto' + LenReview"
   ]
  },
  {
   "cell_type": "code",
   "execution_count": 65,
   "metadata": {},
   "outputs": [
    {
     "name": "stdout",
     "output_type": "stream",
     "text": [
      "Accuracy: 0.90234375\n"
     ]
    }
   ],
   "source": [
    "from sklearn.ensemble import RandomForestClassifier\n",
    "model = RandomForestClassifier(n_estimators=100, random_state=42)\n",
    "model.fit(X_train, y_train)\n",
    "\n",
    "# сделать предсказания на тестовой выборке\n",
    "y_pred = model.predict(X_test)\n",
    "\n",
    "# оценить точность модели\n",
    "accuracy = accuracy_score(y_test, y_pred)\n",
    "print(f\"Accuracy: {accuracy}\")"
   ]
  },
  {
   "cell_type": "code",
   "execution_count": 66,
   "metadata": {},
   "outputs": [
    {
     "name": "stdout",
     "output_type": "stream",
     "text": [
      "Best parameters: {'max_depth': 20, 'min_samples_leaf': 1, 'n_estimators': 200}\n",
      "Accuracy: 0.9034598214285714\n"
     ]
    }
   ],
   "source": [
    "from sklearn.model_selection import GridSearchCV\n",
    "\n",
    "# создать сетку гиперпараметров\n",
    "param_grid = {\n",
    "    'n_estimators': [50, 100, 200],\n",
    "    'max_depth': [5, 10, 20],\n",
    "    'min_samples_leaf': [1, 2, 4]\n",
    "}\n",
    "\n",
    "# создать модель случайного леса\n",
    "rf = RandomForestClassifier(random_state=42)\n",
    "\n",
    "# создать объект GridSearchCV\n",
    "grid_search = GridSearchCV(rf, param_grid=param_grid, cv=5)\n",
    "\n",
    "# выполнить подбор оптимальных гиперпараметров на обучающей выборке\n",
    "grid_search.fit(X_train, y_train)\n",
    "\n",
    "# вывести наилучшие значения гиперпараметров\n",
    "print(\"Best parameters:\", grid_search.best_params_)\n",
    "\n",
    "# оценить точность модели на тестовой выборке с наилучшими гиперпараметрами\n",
    "model = grid_search.best_estimator_\n",
    "y_pred = model.predict(X_test)\n",
    "accuracy = accuracy_score(y_test, y_pred)\n",
    "print(f\"Accuracy: {accuracy}\")"
   ]
  }
 ],
 "metadata": {
  "kernelspec": {
   "display_name": "Python 3",
   "language": "python",
   "name": "python3"
  },
  "language_info": {
   "codemirror_mode": {
    "name": "ipython",
    "version": 3
   },
   "file_extension": ".py",
   "mimetype": "text/x-python",
   "name": "python",
   "nbconvert_exporter": "python",
   "pygments_lexer": "ipython3",
   "version": "3.10.7"
  },
  "orig_nbformat": 4
 },
 "nbformat": 4,
 "nbformat_minor": 2
}
