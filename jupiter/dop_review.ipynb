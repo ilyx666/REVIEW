{
 "cells": [
  {
   "cell_type": "code",
   "execution_count": 17,
   "metadata": {},
   "outputs": [],
   "source": [
    "import pandas as pd"
   ]
  },
  {
   "cell_type": "code",
   "execution_count": 18,
   "metadata": {},
   "outputs": [
    {
     "data": {
      "text/html": [
       "<div>\n",
       "<style scoped>\n",
       "    .dataframe tbody tr th:only-of-type {\n",
       "        vertical-align: middle;\n",
       "    }\n",
       "\n",
       "    .dataframe tbody tr th {\n",
       "        vertical-align: top;\n",
       "    }\n",
       "\n",
       "    .dataframe thead th {\n",
       "        text-align: right;\n",
       "    }\n",
       "</style>\n",
       "<table border=\"1\" class=\"dataframe\">\n",
       "  <thead>\n",
       "    <tr style=\"text-align: right;\">\n",
       "      <th></th>\n",
       "      <th>Unnamed: 0</th>\n",
       "      <th>Unnamed: 0.1</th>\n",
       "      <th>rewiew_ID</th>\n",
       "      <th>article</th>\n",
       "      <th>Date</th>\n",
       "      <th>Name</th>\n",
       "      <th>Rating</th>\n",
       "      <th>Rewiew</th>\n",
       "      <th>amount Photo</th>\n",
       "    </tr>\n",
       "  </thead>\n",
       "  <tbody>\n",
       "    <tr>\n",
       "      <th>0</th>\n",
       "      <td>0</td>\n",
       "      <td>0</td>\n",
       "      <td>y1a2e4cBpT2rITcGXb5U</td>\n",
       "      <td>123837570</td>\n",
       "      <td>13-04-2023 17:42:42</td>\n",
       "      <td>Владимир</td>\n",
       "      <td>3</td>\n",
       "      <td>начинать подтупливать сенсор становиться работ...</td>\n",
       "      <td>0</td>\n",
       "    </tr>\n",
       "    <tr>\n",
       "      <th>1</th>\n",
       "      <td>1</td>\n",
       "      <td>1</td>\n",
       "      <td>uLDLeocB5g4sVs4D8-56</td>\n",
       "      <td>123837570</td>\n",
       "      <td>13-04-2023 13:26:39</td>\n",
       "      <td>Алексей</td>\n",
       "      <td>5</td>\n",
       "      <td>норма лопата камера слабый место придираться ч...</td>\n",
       "      <td>3</td>\n",
       "    </tr>\n",
       "    <tr>\n",
       "      <th>2</th>\n",
       "      <td>2</td>\n",
       "      <td>2</td>\n",
       "      <td>rWodeocBYE-HFOZ5m9-H</td>\n",
       "      <td>123837570</td>\n",
       "      <td>13-04-2023 10:16:13</td>\n",
       "      <td>Дилбар</td>\n",
       "      <td>5</td>\n",
       "      <td>хороший телефон пользоваться 4 месяц</td>\n",
       "      <td>2</td>\n",
       "    </tr>\n",
       "    <tr>\n",
       "      <th>3</th>\n",
       "      <td>3</td>\n",
       "      <td>3</td>\n",
       "      <td>H2r7eYcBYE-HFOZ529Vf</td>\n",
       "      <td>123837570</td>\n",
       "      <td>13-04-2023 09:39:22</td>\n",
       "      <td>Александр</td>\n",
       "      <td>5</td>\n",
       "      <td>NaN</td>\n",
       "      <td>0</td>\n",
       "    </tr>\n",
       "    <tr>\n",
       "      <th>4</th>\n",
       "      <td>4</td>\n",
       "      <td>4</td>\n",
       "      <td>PALIdocBl47NwnZ1Tx-R</td>\n",
       "      <td>123837570</td>\n",
       "      <td>12-04-2023 18:44:12</td>\n",
       "      <td>Елена</td>\n",
       "      <td>5</td>\n",
       "      <td>продавец супер доставка очень быстрый хороший ...</td>\n",
       "      <td>0</td>\n",
       "    </tr>\n",
       "    <tr>\n",
       "      <th>...</th>\n",
       "      <td>...</td>\n",
       "      <td>...</td>\n",
       "      <td>...</td>\n",
       "      <td>...</td>\n",
       "      <td>...</td>\n",
       "      <td>...</td>\n",
       "      <td>...</td>\n",
       "      <td>...</td>\n",
       "      <td>...</td>\n",
       "    </tr>\n",
       "    <tr>\n",
       "      <th>12587</th>\n",
       "      <td>12587</td>\n",
       "      <td>20567</td>\n",
       "      <td>ynKqwoMBXuaGXcNpj82i</td>\n",
       "      <td>110354345</td>\n",
       "      <td>06-10-2022 19:24:08</td>\n",
       "      <td>Екатерина</td>\n",
       "      <td>4</td>\n",
       "      <td>отлично спасибо</td>\n",
       "      <td>2</td>\n",
       "    </tr>\n",
       "    <tr>\n",
       "      <th>12588</th>\n",
       "      <td>12588</td>\n",
       "      <td>20587</td>\n",
       "      <td>Gt-leoMBI2nds0aGMKDT</td>\n",
       "      <td>110354345</td>\n",
       "      <td>22-09-2022 07:21:12</td>\n",
       "      <td>Екатерина</td>\n",
       "      <td>2</td>\n",
       "      <td>прекрасный часы работать</td>\n",
       "      <td>1</td>\n",
       "    </tr>\n",
       "    <tr>\n",
       "      <th>12589</th>\n",
       "      <td>12589</td>\n",
       "      <td>20592</td>\n",
       "      <td>_ip0ZYMBOCC9xHZPIgPO</td>\n",
       "      <td>110354345</td>\n",
       "      <td>20-09-2022 05:35:40</td>\n",
       "      <td>Анна</td>\n",
       "      <td>1</td>\n",
       "      <td>отличный качественный час</td>\n",
       "      <td>2</td>\n",
       "    </tr>\n",
       "    <tr>\n",
       "      <th>12590</th>\n",
       "      <td>12590</td>\n",
       "      <td>20593</td>\n",
       "      <td>lilXZYMBOCC9xHZPwPVd</td>\n",
       "      <td>110354345</td>\n",
       "      <td>19-09-2022 17:40:11</td>\n",
       "      <td>Алиса</td>\n",
       "      <td>2</td>\n",
       "      <td>самый хороший копия комплект очень долго выбир...</td>\n",
       "      <td>0</td>\n",
       "    </tr>\n",
       "    <tr>\n",
       "      <th>12591</th>\n",
       "      <td>12591</td>\n",
       "      <td>20597</td>\n",
       "      <td>qiXfXYMBeiioYr22_qEo</td>\n",
       "      <td>110354345</td>\n",
       "      <td>15-09-2022 12:17:16</td>\n",
       "      <td>Елизавета</td>\n",
       "      <td>1</td>\n",
       "      <td>хороший час функция который знать ремешок длин...</td>\n",
       "      <td>0</td>\n",
       "    </tr>\n",
       "  </tbody>\n",
       "</table>\n",
       "<p>12592 rows × 9 columns</p>\n",
       "</div>"
      ],
      "text/plain": [
       "       Unnamed: 0  Unnamed: 0.1             rewiew_ID    article  \\\n",
       "0               0             0  y1a2e4cBpT2rITcGXb5U  123837570   \n",
       "1               1             1  uLDLeocB5g4sVs4D8-56  123837570   \n",
       "2               2             2  rWodeocBYE-HFOZ5m9-H  123837570   \n",
       "3               3             3  H2r7eYcBYE-HFOZ529Vf  123837570   \n",
       "4               4             4  PALIdocBl47NwnZ1Tx-R  123837570   \n",
       "...           ...           ...                   ...        ...   \n",
       "12587       12587         20567  ynKqwoMBXuaGXcNpj82i  110354345   \n",
       "12588       12588         20587  Gt-leoMBI2nds0aGMKDT  110354345   \n",
       "12589       12589         20592  _ip0ZYMBOCC9xHZPIgPO  110354345   \n",
       "12590       12590         20593  lilXZYMBOCC9xHZPwPVd  110354345   \n",
       "12591       12591         20597  qiXfXYMBeiioYr22_qEo  110354345   \n",
       "\n",
       "                       Date       Name  Rating  \\\n",
       "0      13-04-2023 17:42:42    Владимир       3   \n",
       "1      13-04-2023 13:26:39     Алексей       5   \n",
       "2      13-04-2023 10:16:13      Дилбар       5   \n",
       "3      13-04-2023 09:39:22   Александр       5   \n",
       "4      12-04-2023 18:44:12       Елена       5   \n",
       "...                     ...        ...     ...   \n",
       "12587  06-10-2022 19:24:08   Екатерина       4   \n",
       "12588  22-09-2022 07:21:12   Екатерина       2   \n",
       "12589  20-09-2022 05:35:40        Анна       1   \n",
       "12590  19-09-2022 17:40:11       Алиса       2   \n",
       "12591  15-09-2022 12:17:16   Елизавета       1   \n",
       "\n",
       "                                                  Rewiew  amount Photo  \n",
       "0      начинать подтупливать сенсор становиться работ...             0  \n",
       "1      норма лопата камера слабый место придираться ч...             3  \n",
       "2                   хороший телефон пользоваться 4 месяц             2  \n",
       "3                                                    NaN             0  \n",
       "4      продавец супер доставка очень быстрый хороший ...             0  \n",
       "...                                                  ...           ...  \n",
       "12587                                    отлично спасибо             2  \n",
       "12588                           прекрасный часы работать             1  \n",
       "12589                          отличный качественный час             2  \n",
       "12590  самый хороший копия комплект очень долго выбир...             0  \n",
       "12591  хороший час функция который знать ремешок длин...             0  \n",
       "\n",
       "[12592 rows x 9 columns]"
      ]
     },
     "execution_count": 18,
     "metadata": {},
     "output_type": "execute_result"
    }
   ],
   "source": [
    "df = pd.read_excel('review_preprocessing.xlsx')\n",
    "df"
   ]
  },
  {
   "cell_type": "code",
   "execution_count": 19,
   "metadata": {},
   "outputs": [
    {
     "data": {
      "text/plain": [
       "Counter({3: 839, 5: 8061, 4: 1407, 1: 1771, 2: 514})"
      ]
     },
     "execution_count": 19,
     "metadata": {},
     "output_type": "execute_result"
    }
   ],
   "source": [
    "from collections import Counter\n",
    "Counter(df.Rating)"
   ]
  },
  {
   "cell_type": "code",
   "execution_count": 20,
   "metadata": {},
   "outputs": [],
   "source": [
    "# Найдите индексы первых N строк, где Rating равен 5\n",
    "indices_to_drop = df[df['Rating'] == 5].head(6000)['Rating'].index\n",
    "\n",
    "# Удалите эти строки из исходного DataFrame\n",
    "df.drop(indices_to_drop, inplace=True)"
   ]
  },
  {
   "cell_type": "code",
   "execution_count": 21,
   "metadata": {},
   "outputs": [
    {
     "data": {
      "text/plain": [
       "Counter({3: 839, 4: 1407, 1: 1771, 2: 514, 5: 2061})"
      ]
     },
     "execution_count": 21,
     "metadata": {},
     "output_type": "execute_result"
    }
   ],
   "source": [
    "Counter(df.Rating)"
   ]
  },
  {
   "cell_type": "code",
   "execution_count": 22,
   "metadata": {},
   "outputs": [
    {
     "data": {
      "text/plain": [
       "6592"
      ]
     },
     "execution_count": 22,
     "metadata": {},
     "output_type": "execute_result"
    }
   ],
   "source": [
    "len(df)"
   ]
  },
  {
   "cell_type": "code",
   "execution_count": 37,
   "metadata": {},
   "outputs": [
    {
     "name": "stdout",
     "output_type": "stream",
     "text": [
      "Requirement already satisfied: openai in c:\\programdata\\anaconda3\\lib\\site-packages (0.27.6)\n",
      "Requirement already satisfied: aiohttp in c:\\programdata\\anaconda3\\lib\\site-packages (from openai) (3.8.4)\n",
      "Requirement already satisfied: tqdm in c:\\programdata\\anaconda3\\lib\\site-packages (from openai) (4.59.0)\n",
      "Requirement already satisfied: requests>=2.20 in c:\\programdata\\anaconda3\\lib\\site-packages (from openai) (2.25.1)\n",
      "Requirement already satisfied: urllib3<1.27,>=1.21.1 in c:\\programdata\\anaconda3\\lib\\site-packages (from requests>=2.20->openai) (1.26.4)\n",
      "Requirement already satisfied: chardet<5,>=3.0.2 in c:\\programdata\\anaconda3\\lib\\site-packages (from requests>=2.20->openai) (4.0.0)\n",
      "Requirement already satisfied: certifi>=2017.4.17 in c:\\programdata\\anaconda3\\lib\\site-packages (from requests>=2.20->openai) (2020.12.5)\n",
      "Requirement already satisfied: idna<3,>=2.5 in c:\\programdata\\anaconda3\\lib\\site-packages (from requests>=2.20->openai) (2.10)\n",
      "Requirement already satisfied: charset-normalizer<4.0,>=2.0 in c:\\programdata\\anaconda3\\lib\\site-packages (from aiohttp->openai) (3.1.0)\n",
      "Requirement already satisfied: aiosignal>=1.1.2 in c:\\programdata\\anaconda3\\lib\\site-packages (from aiohttp->openai) (1.3.1)\n",
      "Requirement already satisfied: frozenlist>=1.1.1 in c:\\programdata\\anaconda3\\lib\\site-packages (from aiohttp->openai) (1.3.3)\n",
      "Requirement already satisfied: multidict<7.0,>=4.5 in c:\\programdata\\anaconda3\\lib\\site-packages (from aiohttp->openai) (6.0.4)\n",
      "Requirement already satisfied: attrs>=17.3.0 in c:\\programdata\\anaconda3\\lib\\site-packages (from aiohttp->openai) (20.3.0)\n",
      "Requirement already satisfied: async-timeout<5.0,>=4.0.0a3 in c:\\programdata\\anaconda3\\lib\\site-packages (from aiohttp->openai) (4.0.2)\n",
      "Requirement already satisfied: yarl<2.0,>=1.0 in c:\\programdata\\anaconda3\\lib\\site-packages (from aiohttp->openai) (1.9.2)\n"
     ]
    }
   ],
   "source": [
    "!pip install openai\n",
    "import openai\n",
    "import pandas as pd\n",
    "\n",
    "\n",
    "reviews_2 = df[df['Rating'] == 2]['Rewiew'].tolist()[:1000]\n",
    "\n",
    "# Сгенерируйте 1000 новых отзывов на основе существующих отзывов с рейтингом 2\n",
    "generated_reviews = []\n",
    "for review in reviews_2:\n",
    "    prompt = f\"Я прочитал рецензию, в которой говорилось: \\\"{review}\\\". Вот что я думаю по этому поводу:\"\n",
    "    response = openai.Completion.create(\n",
    "        engine=\"davinci\",\n",
    "        prompt=prompt,\n",
    "        max_tokens=1000,\n",
    "        n=1,\n",
    "        stop=None,\n",
    "        temperature=0.7,\n",
    "    )\n",
    "    generated_review = response.choices[0].text.strip()\n",
    "    generated_reviews.append(generated_review)\n",
    "\n",
    "# Добавьте новые отзывы в датафрейм\n",
    "new_reviews_df = pd.DataFrame({'Rating': 2, 'Rewiew': generated_reviews})\n",
    "df_reviews = pd.concat([df, new_reviews_df], ignore_index=True)\n"
   ]
  },
  {
   "cell_type": "code",
   "execution_count": 39,
   "metadata": {},
   "outputs": [
    {
     "data": {
      "text/plain": [
       "50"
      ]
     },
     "execution_count": 39,
     "metadata": {},
     "output_type": "execute_result"
    }
   ],
   "source": [
    "len(generated_reviews)"
   ]
  },
  {
   "cell_type": "code",
   "execution_count": 30,
   "metadata": {},
   "outputs": [
    {
     "name": "stdout",
     "output_type": "stream",
     "text": [
      "{\n",
      "  \"choices\": [\n",
      "    {\n",
      "      \"finish_reason\": \"length\",\n",
      "      \"index\": 0,\n",
      "      \"logprobs\": null,\n",
      "      \"text\": \"\\n\\n2-star reviews:\\n\\n1. The update is making the\"\n",
      "    }\n",
      "  ],\n",
      "  \"created\": 1683081961,\n",
      "  \"id\": \"cmpl-7BwnBi7Lcq1886KsIUbR5hjnKdck1\",\n",
      "  \"model\": \"text-davinci-002\",\n",
      "  \"object\": \"text_completion\",\n",
      "  \"usage\": {\n",
      "    \"completion_tokens\": 16,\n",
      "    \"prompt_tokens\": 74,\n",
      "    \"total_tokens\": 90\n",
      "  }\n",
      "}\n"
     ]
    }
   ],
   "source": [
    "print(response)"
   ]
  },
  {
   "cell_type": "code",
   "execution_count": null,
   "metadata": {},
   "outputs": [],
   "source": []
  }
 ],
 "metadata": {
  "kernelspec": {
   "display_name": "base",
   "language": "python",
   "name": "python3"
  },
  "language_info": {
   "codemirror_mode": {
    "name": "ipython",
    "version": 3
   },
   "file_extension": ".py",
   "mimetype": "text/x-python",
   "name": "python",
   "nbconvert_exporter": "python",
   "pygments_lexer": "ipython3",
   "version": "3.8.8"
  },
  "orig_nbformat": 4
 },
 "nbformat": 4,
 "nbformat_minor": 2
}
