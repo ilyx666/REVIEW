{
 "cells": [
  {
   "cell_type": "code",
   "execution_count": 30,
   "metadata": {},
   "outputs": [],
   "source": [
    "import pandas as pd\n",
    "import random"
   ]
  },
  {
   "cell_type": "code",
   "execution_count": 31,
   "metadata": {},
   "outputs": [],
   "source": [
    "df = pd.read_excel(r'C:\\Users\\ilyx\\Desktop\\REVIEW-main\\review_preprocessing.xlsx')"
   ]
  },
  {
   "cell_type": "code",
   "execution_count": 32,
   "metadata": {},
   "outputs": [],
   "source": [
    "# выбор отзывов с рейтингом 2\n",
    "reviews = df[df[\"Rating\"] == 2][\"Rewiew\"]\n",
    "\n",
    "# генерация новых отзывов\n",
    "new_reviews = []\n",
    "for review in reviews:\n",
    "    words = review.split()\n",
    "    new_review1 = \" \".join(words[::-1])\n",
    "    new_review2 = \" \".join(words[::2] + words[1::2][::-1])\n",
    "    new_reviews.extend([new_review1, new_review2])\n",
    "\n",
    "# добавление новых отзывов в датасет\n",
    "new_df = pd.DataFrame({\"Rating\": [2] * len(new_reviews), \"Rewiew\": new_reviews})\n",
    "# df = pd.concat([df, new_df], ignore_index=True)"
   ]
  },
  {
   "cell_type": "code",
   "execution_count": null,
   "metadata": {},
   "outputs": [],
   "source": []
  },
  {
   "cell_type": "code",
   "execution_count": 33,
   "metadata": {},
   "outputs": [
    {
     "data": {
      "text/plain": [
       "87       обновление становиться сильно тупить затемнени...\n",
       "326      ужасный звучание динамика хрипеть аж противно ...\n",
       "460      телефон приходить рабочий состояние заказывать...\n",
       "469      покупать мама 65 год телефон жутко тупить вотс...\n",
       "489      телефон приходить быстро прорабатывать неделя ...\n",
       "                               ...                        \n",
       "12561    батарея держаться час телефон подключаться пол...\n",
       "12568         идеально работать младший братишка оценивать\n",
       "12573    приходить срокдействительно ремешок иметь спец...\n",
       "12588                             прекрасный часы работать\n",
       "12590    самый хороший копия комплект очень долго выбир...\n",
       "Name: Rewiew, Length: 514, dtype: object"
      ]
     },
     "execution_count": 33,
     "metadata": {},
     "output_type": "execute_result"
    }
   ],
   "source": [
    "reviews"
   ]
  },
  {
   "cell_type": "code",
   "execution_count": 34,
   "metadata": {},
   "outputs": [
    {
     "data": {
      "text/html": [
       "<div>\n",
       "<style scoped>\n",
       "    .dataframe tbody tr th:only-of-type {\n",
       "        vertical-align: middle;\n",
       "    }\n",
       "\n",
       "    .dataframe tbody tr th {\n",
       "        vertical-align: top;\n",
       "    }\n",
       "\n",
       "    .dataframe thead th {\n",
       "        text-align: right;\n",
       "    }\n",
       "</style>\n",
       "<table border=\"1\" class=\"dataframe\">\n",
       "  <thead>\n",
       "    <tr style=\"text-align: right;\">\n",
       "      <th></th>\n",
       "      <th>Rating</th>\n",
       "      <th>Rewiew</th>\n",
       "    </tr>\n",
       "  </thead>\n",
       "  <tbody>\n",
       "    <tr>\n",
       "      <th>0</th>\n",
       "      <td>2</td>\n",
       "      <td>работать неадекватно сенсор экран затемнение т...</td>\n",
       "    </tr>\n",
       "    <tr>\n",
       "      <th>1</th>\n",
       "      <td>2</td>\n",
       "      <td>обновление сильно затемнение сенсор работать н...</td>\n",
       "    </tr>\n",
       "    <tr>\n",
       "      <th>2</th>\n",
       "      <td>2</td>\n",
       "      <td>слушать противно аж хрипеть динамика звучание ...</td>\n",
       "    </tr>\n",
       "    <tr>\n",
       "      <th>3</th>\n",
       "      <td>2</td>\n",
       "      <td>ужасный динамика аж слушать противно хрипеть з...</td>\n",
       "    </tr>\n",
       "    <tr>\n",
       "      <th>4</th>\n",
       "      <td>2</td>\n",
       "      <td>вообщий безобразие кнопочный модель присылать ...</td>\n",
       "    </tr>\n",
       "    <tr>\n",
       "      <th>...</th>\n",
       "      <td>...</td>\n",
       "      <td>...</td>\n",
       "    </tr>\n",
       "    <tr>\n",
       "      <th>1023</th>\n",
       "      <td>2</td>\n",
       "      <td>приходить ремешок спец заменитьдолго звонок пе...</td>\n",
       "    </tr>\n",
       "    <tr>\n",
       "      <th>1024</th>\n",
       "      <td>2</td>\n",
       "      <td>работать часы прекрасный</td>\n",
       "    </tr>\n",
       "    <tr>\n",
       "      <th>1025</th>\n",
       "      <td>2</td>\n",
       "      <td>прекрасный работать часы</td>\n",
       "    </tr>\n",
       "    <tr>\n",
       "      <th>1026</th>\n",
       "      <td>2</td>\n",
       "      <td>:wrapped_gift: подарок заказывать большой спас...</td>\n",
       "    </tr>\n",
       "    <tr>\n",
       "      <th>1027</th>\n",
       "      <td>2</td>\n",
       "      <td>самый копия очень выбирать классный читать оче...</td>\n",
       "    </tr>\n",
       "  </tbody>\n",
       "</table>\n",
       "<p>1028 rows × 2 columns</p>\n",
       "</div>"
      ],
      "text/plain": [
       "      Rating                                             Rewiew\n",
       "0          2  работать неадекватно сенсор экран затемнение т...\n",
       "1          2  обновление сильно затемнение сенсор работать н...\n",
       "2          2  слушать противно аж хрипеть динамика звучание ...\n",
       "3          2  ужасный динамика аж слушать противно хрипеть з...\n",
       "4          2  вообщий безобразие кнопочный модель присылать ...\n",
       "...      ...                                                ...\n",
       "1023       2  приходить ремешок спец заменитьдолго звонок пе...\n",
       "1024       2                           работать часы прекрасный\n",
       "1025       2                           прекрасный работать часы\n",
       "1026       2  :wrapped_gift: подарок заказывать большой спас...\n",
       "1027       2  самый копия очень выбирать классный читать оче...\n",
       "\n",
       "[1028 rows x 2 columns]"
      ]
     },
     "execution_count": 34,
     "metadata": {},
     "output_type": "execute_result"
    }
   ],
   "source": [
    "new_df"
   ]
  },
  {
   "cell_type": "code",
   "execution_count": null,
   "metadata": {},
   "outputs": [],
   "source": []
  },
  {
   "cell_type": "code",
   "execution_count": 35,
   "metadata": {},
   "outputs": [
    {
     "data": {
      "text/plain": [
       "Counter({3: 839, 5: 8061, 4: 1407, 1: 1771, 2: 514})"
      ]
     },
     "execution_count": 35,
     "metadata": {},
     "output_type": "execute_result"
    }
   ],
   "source": [
    "from collections import Counter\n",
    "Counter(df.Rating)"
   ]
  },
  {
   "cell_type": "code",
   "execution_count": null,
   "metadata": {},
   "outputs": [],
   "source": [
    "\n",
    "    "
   ]
  },
  {
   "cell_type": "code",
   "execution_count": null,
   "metadata": {},
   "outputs": [],
   "source": [
    "\n"
   ]
  },
  {
   "cell_type": "code",
   "execution_count": 36,
   "metadata": {},
   "outputs": [],
   "source": [
    "# выбор отзывов с рейтингом 2\n",
    "reviews = df[df[\"Rating\"] == 3][\"Rewiew\"]\n",
    "\n",
    "# генерация новых отзывов\n",
    "new_reviews = []\n",
    "for review in reviews:\n",
    "    if isinstance(review, str):\n",
    "        words = review.split()\n",
    "        new_review1 = \" \".join(words[::-1])\n",
    "        new_reviews.append(new_review1)\n",
    "# добавление новых отзывов в датасет\n",
    "new_df_ = pd.DataFrame({\"Rating\": [3] * len(new_reviews), \"Rewiew\": new_reviews})\n",
    "df_new = pd.concat([new_df, new_df_], ignore_index=True)"
   ]
  },
  {
   "cell_type": "code",
   "execution_count": 37,
   "metadata": {},
   "outputs": [
    {
     "data": {
      "text/html": [
       "<div>\n",
       "<style scoped>\n",
       "    .dataframe tbody tr th:only-of-type {\n",
       "        vertical-align: middle;\n",
       "    }\n",
       "\n",
       "    .dataframe tbody tr th {\n",
       "        vertical-align: top;\n",
       "    }\n",
       "\n",
       "    .dataframe thead th {\n",
       "        text-align: right;\n",
       "    }\n",
       "</style>\n",
       "<table border=\"1\" class=\"dataframe\">\n",
       "  <thead>\n",
       "    <tr style=\"text-align: right;\">\n",
       "      <th></th>\n",
       "      <th>Rating</th>\n",
       "      <th>Rewiew</th>\n",
       "    </tr>\n",
       "  </thead>\n",
       "  <tbody>\n",
       "    <tr>\n",
       "      <th>0</th>\n",
       "      <td>3</td>\n",
       "      <td>касание работать становиться сенсор подтуплива...</td>\n",
       "    </tr>\n",
       "    <tr>\n",
       "      <th>1</th>\n",
       "      <td>3</td>\n",
       "      <td>поделать ничто печально легкий очень телефон в...</td>\n",
       "    </tr>\n",
       "    <tr>\n",
       "      <th>2</th>\n",
       "      <td>3</td>\n",
       "      <td>покупать дорогой вещь вб вывод ремонт относить...</td>\n",
       "    </tr>\n",
       "    <tr>\n",
       "      <th>3</th>\n",
       "      <td>3</td>\n",
       "      <td>vpn встраивать плохо очень андроид 12м самый к...</td>\n",
       "    </tr>\n",
       "    <tr>\n",
       "      <th>4</th>\n",
       "      <td>3</td>\n",
       "      <td>использование месяц 2х подтупливать немного</td>\n",
       "    </tr>\n",
       "    <tr>\n",
       "      <th>...</th>\n",
       "      <td>...</td>\n",
       "      <td>...</td>\n",
       "    </tr>\n",
       "    <tr>\n",
       "      <th>832</th>\n",
       "      <td>3</td>\n",
       "      <td>товар отличный</td>\n",
       "    </tr>\n",
       "    <tr>\n",
       "      <th>833</th>\n",
       "      <td>3</td>\n",
       "      <td>разбираться никак обои поменять вопрос часы от...</td>\n",
       "    </tr>\n",
       "    <tr>\n",
       "      <th>834</th>\n",
       "      <td>3</td>\n",
       "      <td>отказ зарядка цвет приходить</td>\n",
       "    </tr>\n",
       "    <tr>\n",
       "      <th>835</th>\n",
       "      <td>3</td>\n",
       "      <td>сутки 2 держать заряд :sparkling_heart: понрав...</td>\n",
       "    </tr>\n",
       "    <tr>\n",
       "      <th>836</th>\n",
       "      <td>3</td>\n",
       "      <td>реагировать движение экран гореть работать пер...</td>\n",
       "    </tr>\n",
       "  </tbody>\n",
       "</table>\n",
       "<p>837 rows × 2 columns</p>\n",
       "</div>"
      ],
      "text/plain": [
       "     Rating                                             Rewiew\n",
       "0         3  касание работать становиться сенсор подтуплива...\n",
       "1         3  поделать ничто печально легкий очень телефон в...\n",
       "2         3  покупать дорогой вещь вб вывод ремонт относить...\n",
       "3         3  vpn встраивать плохо очень андроид 12м самый к...\n",
       "4         3        использование месяц 2х подтупливать немного\n",
       "..      ...                                                ...\n",
       "832       3                                     товар отличный\n",
       "833       3  разбираться никак обои поменять вопрос часы от...\n",
       "834       3                       отказ зарядка цвет приходить\n",
       "835       3  сутки 2 держать заряд :sparkling_heart: понрав...\n",
       "836       3  реагировать движение экран гореть работать пер...\n",
       "\n",
       "[837 rows x 2 columns]"
      ]
     },
     "execution_count": 37,
     "metadata": {},
     "output_type": "execute_result"
    }
   ],
   "source": [
    "new_df_"
   ]
  },
  {
   "cell_type": "code",
   "execution_count": 38,
   "metadata": {},
   "outputs": [],
   "source": [
    "# df = pd.concat([df, new_df_], ignore_index=True)"
   ]
  },
  {
   "cell_type": "code",
   "execution_count": 39,
   "metadata": {},
   "outputs": [
    {
     "data": {
      "text/plain": [
       "Counter({3: 839, 5: 8061, 4: 1407, 1: 1771, 2: 514})"
      ]
     },
     "execution_count": 39,
     "metadata": {},
     "output_type": "execute_result"
    }
   ],
   "source": [
    "from collections import Counter\n",
    "Counter(df.Rating)"
   ]
  },
  {
   "cell_type": "code",
   "execution_count": 40,
   "metadata": {},
   "outputs": [],
   "source": [
    "indices_to_drop = df[df['Rating'] == 5].head(6000)['Rating'].index\n",
    "# Удалите эти строки из исходного DataFrame\n",
    "df.drop(indices_to_drop, inplace=True)"
   ]
  },
  {
   "cell_type": "code",
   "execution_count": 41,
   "metadata": {},
   "outputs": [
    {
     "data": {
      "text/plain": [
       "Counter({3: 839, 4: 1407, 1: 1771, 2: 514, 5: 2061})"
      ]
     },
     "execution_count": 41,
     "metadata": {},
     "output_type": "execute_result"
    }
   ],
   "source": [
    "from collections import Counter\n",
    "Counter(df.Rating)"
   ]
  },
  {
   "cell_type": "code",
   "execution_count": 42,
   "metadata": {},
   "outputs": [
    {
     "data": {
      "text/html": [
       "<div>\n",
       "<style scoped>\n",
       "    .dataframe tbody tr th:only-of-type {\n",
       "        vertical-align: middle;\n",
       "    }\n",
       "\n",
       "    .dataframe tbody tr th {\n",
       "        vertical-align: top;\n",
       "    }\n",
       "\n",
       "    .dataframe thead th {\n",
       "        text-align: right;\n",
       "    }\n",
       "</style>\n",
       "<table border=\"1\" class=\"dataframe\">\n",
       "  <thead>\n",
       "    <tr style=\"text-align: right;\">\n",
       "      <th></th>\n",
       "      <th>Unnamed: 0.1</th>\n",
       "      <th>Unnamed: 0</th>\n",
       "      <th>rewiew_ID</th>\n",
       "      <th>article</th>\n",
       "      <th>Date</th>\n",
       "      <th>Name</th>\n",
       "      <th>Rating</th>\n",
       "      <th>Rewiew</th>\n",
       "      <th>amount Photo</th>\n",
       "    </tr>\n",
       "  </thead>\n",
       "  <tbody>\n",
       "    <tr>\n",
       "      <th>0</th>\n",
       "      <td>0</td>\n",
       "      <td>0</td>\n",
       "      <td>y1a2e4cBpT2rITcGXb5U</td>\n",
       "      <td>123837570</td>\n",
       "      <td>13-04-2023 17:42:42</td>\n",
       "      <td>Владимир</td>\n",
       "      <td>3</td>\n",
       "      <td>начинать подтупливать сенсор становиться работ...</td>\n",
       "      <td>0</td>\n",
       "    </tr>\n",
       "    <tr>\n",
       "      <th>18</th>\n",
       "      <td>18</td>\n",
       "      <td>18</td>\n",
       "      <td>-DXpUIcBxpMXtsmOPat0</td>\n",
       "      <td>123837570</td>\n",
       "      <td>05-04-2023 10:14:36</td>\n",
       "      <td>Евгений</td>\n",
       "      <td>3</td>\n",
       "      <td>телефон быстрый хороший оболочка глючать хлипк...</td>\n",
       "      <td>0</td>\n",
       "    </tr>\n",
       "    <tr>\n",
       "      <th>31</th>\n",
       "      <td>31</td>\n",
       "      <td>31</td>\n",
       "      <td>ojLKMYcBMBFuPsko1ha6</td>\n",
       "      <td>123837570</td>\n",
       "      <td>30-03-2023 09:13:10</td>\n",
       "      <td>Наталья</td>\n",
       "      <td>3</td>\n",
       "      <td>телефон купить декабрь спустя месяц начинать в...</td>\n",
       "      <td>0</td>\n",
       "    </tr>\n",
       "    <tr>\n",
       "      <th>39</th>\n",
       "      <td>39</td>\n",
       "      <td>39</td>\n",
       "      <td>jl4JKIcBtPujtG5sD7mq</td>\n",
       "      <td>123837570</td>\n",
       "      <td>28-03-2023 11:44:55</td>\n",
       "      <td>Артем</td>\n",
       "      <td>3</td>\n",
       "      <td>телефон неплохой недочет приходить скрепка защ...</td>\n",
       "      <td>0</td>\n",
       "    </tr>\n",
       "    <tr>\n",
       "      <th>42</th>\n",
       "      <td>42</td>\n",
       "      <td>42</td>\n",
       "      <td>0q9bH4cBJ99b87NGoOGL</td>\n",
       "      <td>123837570</td>\n",
       "      <td>26-03-2023 19:18:31</td>\n",
       "      <td>Александр</td>\n",
       "      <td>4</td>\n",
       "      <td>телефон плохой почемуто обновление система ста...</td>\n",
       "      <td>0</td>\n",
       "    </tr>\n",
       "    <tr>\n",
       "      <th>...</th>\n",
       "      <td>...</td>\n",
       "      <td>...</td>\n",
       "      <td>...</td>\n",
       "      <td>...</td>\n",
       "      <td>...</td>\n",
       "      <td>...</td>\n",
       "      <td>...</td>\n",
       "      <td>...</td>\n",
       "      <td>...</td>\n",
       "    </tr>\n",
       "    <tr>\n",
       "      <th>12587</th>\n",
       "      <td>12587</td>\n",
       "      <td>20567</td>\n",
       "      <td>ynKqwoMBXuaGXcNpj82i</td>\n",
       "      <td>110354345</td>\n",
       "      <td>06-10-2022 19:24:08</td>\n",
       "      <td>Екатерина</td>\n",
       "      <td>4</td>\n",
       "      <td>отлично спасибо</td>\n",
       "      <td>2</td>\n",
       "    </tr>\n",
       "    <tr>\n",
       "      <th>12588</th>\n",
       "      <td>12588</td>\n",
       "      <td>20587</td>\n",
       "      <td>Gt-leoMBI2nds0aGMKDT</td>\n",
       "      <td>110354345</td>\n",
       "      <td>22-09-2022 07:21:12</td>\n",
       "      <td>Екатерина</td>\n",
       "      <td>2</td>\n",
       "      <td>прекрасный часы работать</td>\n",
       "      <td>1</td>\n",
       "    </tr>\n",
       "    <tr>\n",
       "      <th>12589</th>\n",
       "      <td>12589</td>\n",
       "      <td>20592</td>\n",
       "      <td>_ip0ZYMBOCC9xHZPIgPO</td>\n",
       "      <td>110354345</td>\n",
       "      <td>20-09-2022 05:35:40</td>\n",
       "      <td>Анна</td>\n",
       "      <td>1</td>\n",
       "      <td>отличный качественный час</td>\n",
       "      <td>2</td>\n",
       "    </tr>\n",
       "    <tr>\n",
       "      <th>12590</th>\n",
       "      <td>12590</td>\n",
       "      <td>20593</td>\n",
       "      <td>lilXZYMBOCC9xHZPwPVd</td>\n",
       "      <td>110354345</td>\n",
       "      <td>19-09-2022 17:40:11</td>\n",
       "      <td>Алиса</td>\n",
       "      <td>2</td>\n",
       "      <td>самый хороший копия комплект очень долго выбир...</td>\n",
       "      <td>0</td>\n",
       "    </tr>\n",
       "    <tr>\n",
       "      <th>12591</th>\n",
       "      <td>12591</td>\n",
       "      <td>20597</td>\n",
       "      <td>qiXfXYMBeiioYr22_qEo</td>\n",
       "      <td>110354345</td>\n",
       "      <td>15-09-2022 12:17:16</td>\n",
       "      <td>Елизавета</td>\n",
       "      <td>1</td>\n",
       "      <td>хороший час функция который знать ремешок длин...</td>\n",
       "      <td>0</td>\n",
       "    </tr>\n",
       "  </tbody>\n",
       "</table>\n",
       "<p>6592 rows × 9 columns</p>\n",
       "</div>"
      ],
      "text/plain": [
       "       Unnamed: 0.1  Unnamed: 0             rewiew_ID    article  \\\n",
       "0                 0           0  y1a2e4cBpT2rITcGXb5U  123837570   \n",
       "18               18          18  -DXpUIcBxpMXtsmOPat0  123837570   \n",
       "31               31          31  ojLKMYcBMBFuPsko1ha6  123837570   \n",
       "39               39          39  jl4JKIcBtPujtG5sD7mq  123837570   \n",
       "42               42          42  0q9bH4cBJ99b87NGoOGL  123837570   \n",
       "...             ...         ...                   ...        ...   \n",
       "12587         12587       20567  ynKqwoMBXuaGXcNpj82i  110354345   \n",
       "12588         12588       20587  Gt-leoMBI2nds0aGMKDT  110354345   \n",
       "12589         12589       20592  _ip0ZYMBOCC9xHZPIgPO  110354345   \n",
       "12590         12590       20593  lilXZYMBOCC9xHZPwPVd  110354345   \n",
       "12591         12591       20597  qiXfXYMBeiioYr22_qEo  110354345   \n",
       "\n",
       "                       Date       Name  Rating  \\\n",
       "0      13-04-2023 17:42:42    Владимир       3   \n",
       "18     05-04-2023 10:14:36     Евгений       3   \n",
       "31     30-03-2023 09:13:10     Наталья       3   \n",
       "39     28-03-2023 11:44:55       Артем       3   \n",
       "42     26-03-2023 19:18:31   Александр       4   \n",
       "...                     ...        ...     ...   \n",
       "12587  06-10-2022 19:24:08   Екатерина       4   \n",
       "12588  22-09-2022 07:21:12   Екатерина       2   \n",
       "12589  20-09-2022 05:35:40        Анна       1   \n",
       "12590  19-09-2022 17:40:11       Алиса       2   \n",
       "12591  15-09-2022 12:17:16   Елизавета       1   \n",
       "\n",
       "                                                  Rewiew  amount Photo  \n",
       "0      начинать подтупливать сенсор становиться работ...             0  \n",
       "18     телефон быстрый хороший оболочка глючать хлипк...             0  \n",
       "31     телефон купить декабрь спустя месяц начинать в...             0  \n",
       "39     телефон неплохой недочет приходить скрепка защ...             0  \n",
       "42     телефон плохой почемуто обновление система ста...             0  \n",
       "...                                                  ...           ...  \n",
       "12587                                    отлично спасибо             2  \n",
       "12588                           прекрасный часы работать             1  \n",
       "12589                          отличный качественный час             2  \n",
       "12590  самый хороший копия комплект очень долго выбир...             0  \n",
       "12591  хороший час функция который знать ремешок длин...             0  \n",
       "\n",
       "[6592 rows x 9 columns]"
      ]
     },
     "execution_count": 42,
     "metadata": {},
     "output_type": "execute_result"
    }
   ],
   "source": [
    "df"
   ]
  },
  {
   "cell_type": "code",
   "execution_count": 43,
   "metadata": {},
   "outputs": [
    {
     "data": {
      "text/html": [
       "<div>\n",
       "<style scoped>\n",
       "    .dataframe tbody tr th:only-of-type {\n",
       "        vertical-align: middle;\n",
       "    }\n",
       "\n",
       "    .dataframe tbody tr th {\n",
       "        vertical-align: top;\n",
       "    }\n",
       "\n",
       "    .dataframe thead th {\n",
       "        text-align: right;\n",
       "    }\n",
       "</style>\n",
       "<table border=\"1\" class=\"dataframe\">\n",
       "  <thead>\n",
       "    <tr style=\"text-align: right;\">\n",
       "      <th></th>\n",
       "      <th>Rating</th>\n",
       "      <th>Rewiew</th>\n",
       "      <th>amount Photo</th>\n",
       "    </tr>\n",
       "  </thead>\n",
       "  <tbody>\n",
       "    <tr>\n",
       "      <th>0</th>\n",
       "      <td>2</td>\n",
       "      <td>работать неадекватно сенсор экран затемнение т...</td>\n",
       "      <td>0</td>\n",
       "    </tr>\n",
       "    <tr>\n",
       "      <th>1</th>\n",
       "      <td>2</td>\n",
       "      <td>обновление сильно затемнение сенсор работать н...</td>\n",
       "      <td>0</td>\n",
       "    </tr>\n",
       "    <tr>\n",
       "      <th>2</th>\n",
       "      <td>2</td>\n",
       "      <td>слушать противно аж хрипеть динамика звучание ...</td>\n",
       "      <td>0</td>\n",
       "    </tr>\n",
       "    <tr>\n",
       "      <th>3</th>\n",
       "      <td>2</td>\n",
       "      <td>ужасный динамика аж слушать противно хрипеть з...</td>\n",
       "      <td>0</td>\n",
       "    </tr>\n",
       "    <tr>\n",
       "      <th>4</th>\n",
       "      <td>2</td>\n",
       "      <td>вообщий безобразие кнопочный модель присылать ...</td>\n",
       "      <td>0</td>\n",
       "    </tr>\n",
       "    <tr>\n",
       "      <th>...</th>\n",
       "      <td>...</td>\n",
       "      <td>...</td>\n",
       "      <td>...</td>\n",
       "    </tr>\n",
       "    <tr>\n",
       "      <th>1860</th>\n",
       "      <td>3</td>\n",
       "      <td>товар отличный</td>\n",
       "      <td>0</td>\n",
       "    </tr>\n",
       "    <tr>\n",
       "      <th>1861</th>\n",
       "      <td>3</td>\n",
       "      <td>разбираться никак обои поменять вопрос часы от...</td>\n",
       "      <td>0</td>\n",
       "    </tr>\n",
       "    <tr>\n",
       "      <th>1862</th>\n",
       "      <td>3</td>\n",
       "      <td>отказ зарядка цвет приходить</td>\n",
       "      <td>0</td>\n",
       "    </tr>\n",
       "    <tr>\n",
       "      <th>1863</th>\n",
       "      <td>3</td>\n",
       "      <td>сутки 2 держать заряд :sparkling_heart: понрав...</td>\n",
       "      <td>0</td>\n",
       "    </tr>\n",
       "    <tr>\n",
       "      <th>1864</th>\n",
       "      <td>3</td>\n",
       "      <td>реагировать движение экран гореть работать пер...</td>\n",
       "      <td>0</td>\n",
       "    </tr>\n",
       "  </tbody>\n",
       "</table>\n",
       "<p>1865 rows × 3 columns</p>\n",
       "</div>"
      ],
      "text/plain": [
       "      Rating                                             Rewiew  amount Photo\n",
       "0          2  работать неадекватно сенсор экран затемнение т...             0\n",
       "1          2  обновление сильно затемнение сенсор работать н...             0\n",
       "2          2  слушать противно аж хрипеть динамика звучание ...             0\n",
       "3          2  ужасный динамика аж слушать противно хрипеть з...             0\n",
       "4          2  вообщий безобразие кнопочный модель присылать ...             0\n",
       "...      ...                                                ...           ...\n",
       "1860       3                                     товар отличный             0\n",
       "1861       3  разбираться никак обои поменять вопрос часы от...             0\n",
       "1862       3                       отказ зарядка цвет приходить             0\n",
       "1863       3  сутки 2 держать заряд :sparkling_heart: понрав...             0\n",
       "1864       3  реагировать движение экран гореть работать пер...             0\n",
       "\n",
       "[1865 rows x 3 columns]"
      ]
     },
     "execution_count": 43,
     "metadata": {},
     "output_type": "execute_result"
    }
   ],
   "source": [
    "df_new['amount Photo'] = [0] * len(df_new)\n",
    "df_new"
   ]
  },
  {
   "cell_type": "code",
   "execution_count": 126,
   "metadata": {},
   "outputs": [
    {
     "name": "stderr",
     "output_type": "stream",
     "text": [
      "C:\\Users\\ilyx\\AppData\\Local\\Temp\\ipykernel_14912\\4161915936.py:4: SettingWithCopyWarning: \n",
      "A value is trying to be set on a copy of a slice from a DataFrame\n",
      "\n",
      "See the caveats in the documentation: https://pandas.pydata.org/pandas-docs/stable/user_guide/indexing.html#returning-a-view-versus-a-copy\n",
      "  df_new['amount Photo'][i] = 0\n",
      "C:\\Users\\ilyx\\AppData\\Local\\Temp\\ipykernel_14912\\4161915936.py:14: SettingWithCopyWarning: \n",
      "A value is trying to be set on a copy of a slice from a DataFrame\n",
      "\n",
      "See the caveats in the documentation: https://pandas.pydata.org/pandas-docs/stable/user_guide/indexing.html#returning-a-view-versus-a-copy\n",
      "  df_new['amount Photo'][i] = random.randint(5, 16)\n",
      "C:\\Users\\ilyx\\AppData\\Local\\Temp\\ipykernel_14912\\4161915936.py:6: SettingWithCopyWarning: \n",
      "A value is trying to be set on a copy of a slice from a DataFrame\n",
      "\n",
      "See the caveats in the documentation: https://pandas.pydata.org/pandas-docs/stable/user_guide/indexing.html#returning-a-view-versus-a-copy\n",
      "  df_new['amount Photo'][i] = 1\n",
      "C:\\Users\\ilyx\\AppData\\Local\\Temp\\ipykernel_14912\\4161915936.py:10: SettingWithCopyWarning: \n",
      "A value is trying to be set on a copy of a slice from a DataFrame\n",
      "\n",
      "See the caveats in the documentation: https://pandas.pydata.org/pandas-docs/stable/user_guide/indexing.html#returning-a-view-versus-a-copy\n",
      "  df_new['amount Photo'][i] = 3\n",
      "C:\\Users\\ilyx\\AppData\\Local\\Temp\\ipykernel_14912\\4161915936.py:8: SettingWithCopyWarning: \n",
      "A value is trying to be set on a copy of a slice from a DataFrame\n",
      "\n",
      "See the caveats in the documentation: https://pandas.pydata.org/pandas-docs/stable/user_guide/indexing.html#returning-a-view-versus-a-copy\n",
      "  df_new['amount Photo'][i] = 2\n",
      "C:\\Users\\ilyx\\AppData\\Local\\Temp\\ipykernel_14912\\4161915936.py:12: SettingWithCopyWarning: \n",
      "A value is trying to be set on a copy of a slice from a DataFrame\n",
      "\n",
      "See the caveats in the documentation: https://pandas.pydata.org/pandas-docs/stable/user_guide/indexing.html#returning-a-view-versus-a-copy\n",
      "  df_new['amount Photo'][i] = 4\n"
     ]
    }
   ],
   "source": [
    "for i in range(len(df_new['amount Photo'])):\n",
    "    r = random.randint(0, 100)\n",
    "    if r > 19:\n",
    "        df_new['amount Photo'][i] = 0\n",
    "    if 19 >= r > 11:\n",
    "        df_new['amount Photo'][i] = 1\n",
    "    if 11 >= r > 7:\n",
    "        df_new['amount Photo'][i] = 2\n",
    "    if 7 >= r > 4:\n",
    "        df_new['amount Photo'][i] = 3\n",
    "    if 4 > r >= 3:\n",
    "        df_new['amount Photo'][i] = 4\n",
    "    if r < 3:\n",
    "        df_new['amount Photo'][i] = random.randint(5, 16)"
   ]
  },
  {
   "cell_type": "code",
   "execution_count": 100,
   "metadata": {},
   "outputs": [
    {
     "name": "stdout",
     "output_type": "stream",
     "text": [
      "{0: 81.21966019417475, 2: 3.8986650485436893, 1: 7.706310679611651, 3: 2.7305825242718447, 4: 1.2894417475728155, 10: 0.12135922330097088, 6: 1.2894417475728155, 8: 0.39441747572815533, 5: 0.30339805825242716, 12: 0.4550970873786408, 9: 0.30339805825242716, 24: 0.09101941747572816, 18: 0.10618932038834951, 15: 0.04550970873786408, 16: 0.04550970873786408}\n"
     ]
    }
   ],
   "source": [
    "perc = {}\n",
    "count_ = Counter(df['amount Photo'])\n",
    "for k, v in count_.items():\n",
    "    perc[k] = (v * 100) / len(df)\n",
    "print(perc)"
   ]
  },
  {
   "cell_type": "code",
   "execution_count": 101,
   "metadata": {},
   "outputs": [
    {
     "data": {
      "text/plain": [
       "Counter({0: 1492,\n",
       "         13: 6,\n",
       "         2: 83,\n",
       "         1: 168,\n",
       "         4: 50,\n",
       "         3: 34,\n",
       "         7: 4,\n",
       "         5: 4,\n",
       "         10: 5,\n",
       "         11: 3,\n",
       "         14: 2,\n",
       "         8: 2,\n",
       "         6: 3,\n",
       "         9: 3,\n",
       "         16: 1,\n",
       "         15: 3,\n",
       "         12: 2})"
      ]
     },
     "execution_count": 101,
     "metadata": {},
     "output_type": "execute_result"
    }
   ],
   "source": [
    "Counter(df_new['amount Photo'])"
   ]
  },
  {
   "cell_type": "code",
   "execution_count": 127,
   "metadata": {},
   "outputs": [
    {
     "name": "stdout",
     "output_type": "stream",
     "text": [
      "{0: 81.07238605898124, 7: 0.21447721179624665, 1: 7.345844504021447, 3: 3.324396782841823, 13: 0.32171581769436997, 2: 4.289544235924933, 15: 0.16085790884718498, 8: 0.32171581769436997, 6: 0.16085790884718498, 14: 0.4289544235924933, 12: 0.32171581769436997, 9: 0.10723860589812333, 11: 0.48257372654155495, 4: 0.8579088471849866, 5: 0.21447721179624665, 16: 0.32171581769436997, 10: 0.05361930294906166}\n"
     ]
    }
   ],
   "source": [
    "perc = {}\n",
    "count_ = Counter(df_new['amount Photo'])\n",
    "for k, v in count_.items():\n",
    "    perc[k] = (v * 100) / len(df_new)\n",
    "print(perc)"
   ]
  },
  {
   "cell_type": "code",
   "execution_count": 128,
   "metadata": {},
   "outputs": [],
   "source": [
    "df = pd.concat([df, df_new], ignore_index=True)"
   ]
  },
  {
   "cell_type": "code",
   "execution_count": 129,
   "metadata": {},
   "outputs": [],
   "source": [
    "df.to_excel(r'C:\\Users\\ilyx\\Desktop\\REVIEW-main\\review_preprocessing.xlsx')"
   ]
  }
 ],
 "metadata": {
  "kernelspec": {
   "display_name": "Python 3",
   "language": "python",
   "name": "python3"
  },
  "language_info": {
   "codemirror_mode": {
    "name": "ipython",
    "version": 3
   },
   "file_extension": ".py",
   "mimetype": "text/x-python",
   "name": "python",
   "nbconvert_exporter": "python",
   "pygments_lexer": "ipython3",
   "version": "3.10.7"
  },
  "orig_nbformat": 4
 },
 "nbformat": 4,
 "nbformat_minor": 2
}
